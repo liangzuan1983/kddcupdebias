{
 "cells": [
  {
   "cell_type": "code",
   "execution_count": 1,
   "metadata": {},
   "outputs": [],
   "source": [
    "%load_ext autoreload\n",
    "%autoreload 2"
   ]
  },
  {
   "cell_type": "code",
   "execution_count": 86,
   "metadata": {},
   "outputs": [],
   "source": [
    "from load_data import load_data, load_item, gen_full_data\n",
    "from conf import opt\n",
    "import pandas as pd"
   ]
  },
  {
   "cell_type": "code",
   "execution_count": 61,
   "metadata": {},
   "outputs": [],
   "source": [
    "import os\n",
    "os.environ['CUDA_VISIBLE_DEVICES'] = '5'\n",
    "import faiss\n",
    "import numpy as np"
   ]
  },
  {
   "cell_type": "code",
   "execution_count": 107,
   "metadata": {},
   "outputs": [],
   "source": [
    "from evaluate import evaluate"
   ]
  },
  {
   "cell_type": "code",
   "execution_count": null,
   "metadata": {},
   "outputs": [],
   "source": [
    "train_data = load_data(opt.data.base_dir+opt.data.train_file, opt.phrase)\n",
    "test_data = load_data(opt.data.base_dir+opt.data.test_file, opt.phrase)\n",
    "qtime_data = load_data(opt.data.base_dir+opt.data.predict_file, opt.phrase, qtime=True)\n",
    "user_df = pd.read_csv(opt.data.base_dir+opt.data.user_feat, names=opt.data.user_cols, header=None)\n",
    "item_df = load_item(opt.data.base_dir+opt.data.item_feat)"
   ]
  },
  {
   "cell_type": "code",
   "execution_count": 80,
   "metadata": {},
   "outputs": [],
   "source": [
    "data = gen_full_data([train_data, test_data])"
   ]
  },
  {
   "cell_type": "code",
   "execution_count": 89,
   "metadata": {},
   "outputs": [],
   "source": [
    "sub_path=\"data/submit/sub_sar_drop_dup.csv\""
   ]
  },
  {
   "cell_type": "code",
   "execution_count": 92,
   "metadata": {},
   "outputs": [],
   "source": [
    "answer_df = test_data.drop_duplicates(subset=['user_id'], keep='last')\n",
    "item_df = pd.read_csv(opt.data.base_dir+\"item_count.csv\")\n",
    "df_merge = pd.merge(answer_df, item_df)\n",
    "df_merge[['user_id', 'item_id', 'item_degree']].to_csv(opt.data.local_eval_file,index=False, header=None)"
   ]
  },
  {
   "cell_type": "code",
   "execution_count": 108,
   "metadata": {},
   "outputs": [
    {
     "name": "stdout",
     "output_type": "stream",
     "text": [
      "score:0.0000, ndcg_50_full; 0.0000, hitrate_50_full: 0.0000,, ndcg_50_half: 0.0000, hitrate_50_full: 0.0000\n"
     ]
    }
   ],
   "source": [
    "evaluate(sub_path, opt.data.local_eval_file, opt.phrase)"
   ]
  },
  {
   "cell_type": "code",
   "execution_count": null,
   "metadata": {},
   "outputs": [],
   "source": []
  }
 ],
 "metadata": {
  "kernelspec": {
   "display_name": "Python [conda env:py36] *",
   "language": "python",
   "name": "conda-env-py36-py"
  },
  "language_info": {
   "codemirror_mode": {
    "name": "ipython",
    "version": 3
   },
   "file_extension": ".py",
   "mimetype": "text/x-python",
   "name": "python",
   "nbconvert_exporter": "python",
   "pygments_lexer": "ipython3",
   "version": "3.6.9"
  }
 },
 "nbformat": 4,
 "nbformat_minor": 4
}
