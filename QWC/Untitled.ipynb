{
 "cells": [
  {
   "cell_type": "code",
   "execution_count": 26,
   "metadata": {},
   "outputs": [],
   "source": [
    "%load_ext autoreload\n",
    "%autoreload 2"
   ]
  },
  {
   "cell_type": "code",
   "execution_count": 27,
   "metadata": {},
   "outputs": [],
   "source": [
    "from load_data import load_data, load_item, gen_full_data, gen_train_eval\n",
    "from conf import opt\n",
    "import pandas as pd"
   ]
  },
  {
   "cell_type": "code",
   "execution_count": 39,
   "metadata": {},
   "outputs": [],
   "source": [
    "import time, datetime"
   ]
  },
  {
   "cell_type": "code",
   "execution_count": 28,
   "metadata": {},
   "outputs": [],
   "source": [
    "import os\n",
    "os.environ['CUDA_VISIBLE_DEVICES'] = '5'\n",
    "import faiss\n",
    "import numpy as np"
   ]
  },
  {
   "cell_type": "code",
   "execution_count": 29,
   "metadata": {},
   "outputs": [],
   "source": [
    "from utils.evaluate import evaluate\n",
    "from datetime import datetime\n",
    "import time"
   ]
  },
  {
   "cell_type": "code",
   "execution_count": 30,
   "metadata": {},
   "outputs": [
    {
     "name": "stdout",
     "output_type": "stream",
     "text": [
      "data/underexpose_train/underexpose_train_click-0.csv\n",
      "data/underexpose_train/underexpose_train_click-1.csv\n",
      "data/underexpose_train/underexpose_train_click-2.csv\n",
      "data/underexpose_test/underexpose_test_click-0.csv\n",
      "data/underexpose_test/underexpose_test_click-1.csv\n",
      "data/underexpose_test/underexpose_test_click-2.csv\n",
      "data/underexpose_test/underexpose_test_qtime-0.csv\n",
      "data/underexpose_test/underexpose_test_qtime-1.csv\n",
      "data/underexpose_test/underexpose_test_qtime-2.csv\n"
     ]
    }
   ],
   "source": [
    "train_data = load_data(opt.data.base_dir+opt.data.train_file, opt.phrase)\n",
    "test_data = load_data(opt.data.base_dir+opt.data.test_file, opt.phrase)\n",
    "qtime_data = load_data(opt.data.base_dir+opt.data.predict_file, opt.phrase, qtime=True)\n",
    "user_df = pd.read_csv(opt.data.base_dir+opt.data.user_feat, names=opt.data.user_cols, header=None)\n",
    "item_df = load_item(opt.data.base_dir+opt.data.item_feat)"
   ]
  },
  {
   "cell_type": "code",
   "execution_count": 31,
   "metadata": {},
   "outputs": [],
   "source": [
    "train_data['flag'] = 0\n",
    "test_data['flag'] = 1\n",
    "data = gen_full_data([train_data, test_data])"
   ]
  },
  {
   "cell_type": "code",
   "execution_count": 33,
   "metadata": {},
   "outputs": [
    {
     "data": {
      "text/html": [
       "<div>\n",
       "<style scoped>\n",
       "    .dataframe tbody tr th:only-of-type {\n",
       "        vertical-align: middle;\n",
       "    }\n",
       "\n",
       "    .dataframe tbody tr th {\n",
       "        vertical-align: top;\n",
       "    }\n",
       "\n",
       "    .dataframe thead th {\n",
       "        text-align: right;\n",
       "    }\n",
       "</style>\n",
       "<table border=\"1\" class=\"dataframe\">\n",
       "  <thead>\n",
       "    <tr style=\"text-align: right;\">\n",
       "      <th></th>\n",
       "      <th>user_id</th>\n",
       "      <th>item_id</th>\n",
       "      <th>qtime</th>\n",
       "      <th>flag</th>\n",
       "      <th>timestamp</th>\n",
       "      <th>time_diff</th>\n",
       "    </tr>\n",
       "  </thead>\n",
       "  <tbody>\n",
       "    <tr>\n",
       "      <th>10025</th>\n",
       "      <td>11</td>\n",
       "      <td>88058</td>\n",
       "      <td>0.983740</td>\n",
       "      <td>1</td>\n",
       "      <td>1.560652e+09</td>\n",
       "      <td>-1.000000</td>\n",
       "    </tr>\n",
       "    <tr>\n",
       "      <th>9908</th>\n",
       "      <td>11</td>\n",
       "      <td>66082</td>\n",
       "      <td>0.983740</td>\n",
       "      <td>1</td>\n",
       "      <td>1.560653e+09</td>\n",
       "      <td>741.645294</td>\n",
       "    </tr>\n",
       "    <tr>\n",
       "      <th>8462</th>\n",
       "      <td>11</td>\n",
       "      <td>29755</td>\n",
       "      <td>0.983741</td>\n",
       "      <td>1</td>\n",
       "      <td>1.560653e+09</td>\n",
       "      <td>575.500734</td>\n",
       "    </tr>\n",
       "    <tr>\n",
       "      <th>15760</th>\n",
       "      <td>11</td>\n",
       "      <td>78804</td>\n",
       "      <td>0.983770</td>\n",
       "      <td>1</td>\n",
       "      <td>1.560700e+09</td>\n",
       "      <td>46394.367025</td>\n",
       "    </tr>\n",
       "    <tr>\n",
       "      <th>18254</th>\n",
       "      <td>11</td>\n",
       "      <td>43074</td>\n",
       "      <td>0.983830</td>\n",
       "      <td>1</td>\n",
       "      <td>1.560796e+09</td>\n",
       "      <td>95790.345706</td>\n",
       "    </tr>\n",
       "    <tr>\n",
       "      <th>20397</th>\n",
       "      <td>11</td>\n",
       "      <td>75757</td>\n",
       "      <td>0.983830</td>\n",
       "      <td>1</td>\n",
       "      <td>1.560796e+09</td>\n",
       "      <td>8.006967</td>\n",
       "    </tr>\n",
       "    <tr>\n",
       "      <th>581562</th>\n",
       "      <td>11</td>\n",
       "      <td>23323</td>\n",
       "      <td>0.983868</td>\n",
       "      <td>0</td>\n",
       "      <td>1.560856e+09</td>\n",
       "      <td>60051.249669</td>\n",
       "    </tr>\n",
       "    <tr>\n",
       "      <th>500363</th>\n",
       "      <td>11</td>\n",
       "      <td>22113</td>\n",
       "      <td>0.983868</td>\n",
       "      <td>0</td>\n",
       "      <td>1.560856e+09</td>\n",
       "      <td>55.047896</td>\n",
       "    </tr>\n",
       "    <tr>\n",
       "      <th>588771</th>\n",
       "      <td>11</td>\n",
       "      <td>20317</td>\n",
       "      <td>0.983868</td>\n",
       "      <td>0</td>\n",
       "      <td>1.560856e+09</td>\n",
       "      <td>313.272574</td>\n",
       "    </tr>\n",
       "    <tr>\n",
       "      <th>4188</th>\n",
       "      <td>11</td>\n",
       "      <td>64689</td>\n",
       "      <td>0.983868</td>\n",
       "      <td>1</td>\n",
       "      <td>1.560856e+09</td>\n",
       "      <td>70.060959</td>\n",
       "    </tr>\n",
       "    <tr>\n",
       "      <th>515531</th>\n",
       "      <td>11</td>\n",
       "      <td>28210</td>\n",
       "      <td>0.983868</td>\n",
       "      <td>0</td>\n",
       "      <td>1.560856e+09</td>\n",
       "      <td>85.074022</td>\n",
       "    </tr>\n",
       "    <tr>\n",
       "      <th>594815</th>\n",
       "      <td>11</td>\n",
       "      <td>823</td>\n",
       "      <td>0.983869</td>\n",
       "      <td>0</td>\n",
       "      <td>1.560856e+09</td>\n",
       "      <td>26.022642</td>\n",
       "    </tr>\n",
       "    <tr>\n",
       "      <th>661645</th>\n",
       "      <td>11</td>\n",
       "      <td>8052</td>\n",
       "      <td>0.983869</td>\n",
       "      <td>0</td>\n",
       "      <td>1.560856e+09</td>\n",
       "      <td>31.026996</td>\n",
       "    </tr>\n",
       "    <tr>\n",
       "      <th>666093</th>\n",
       "      <td>11</td>\n",
       "      <td>78804</td>\n",
       "      <td>0.983993</td>\n",
       "      <td>0</td>\n",
       "      <td>1.561053e+09</td>\n",
       "      <td>196711.155350</td>\n",
       "    </tr>\n",
       "    <tr>\n",
       "      <th>504961</th>\n",
       "      <td>11</td>\n",
       "      <td>97305</td>\n",
       "      <td>0.983993</td>\n",
       "      <td>0</td>\n",
       "      <td>1.561053e+09</td>\n",
       "      <td>257.223807</td>\n",
       "    </tr>\n",
       "    <tr>\n",
       "      <th>576799</th>\n",
       "      <td>11</td>\n",
       "      <td>64404</td>\n",
       "      <td>0.984034</td>\n",
       "      <td>0</td>\n",
       "      <td>1.561119e+09</td>\n",
       "      <td>65650.121160</td>\n",
       "    </tr>\n",
       "  </tbody>\n",
       "</table>\n",
       "</div>"
      ],
      "text/plain": [
       "        user_id  item_id     qtime  flag     timestamp      time_diff\n",
       "10025        11    88058  0.983740     1  1.560652e+09      -1.000000\n",
       "9908         11    66082  0.983740     1  1.560653e+09     741.645294\n",
       "8462         11    29755  0.983741     1  1.560653e+09     575.500734\n",
       "15760        11    78804  0.983770     1  1.560700e+09   46394.367025\n",
       "18254        11    43074  0.983830     1  1.560796e+09   95790.345706\n",
       "20397        11    75757  0.983830     1  1.560796e+09       8.006967\n",
       "581562       11    23323  0.983868     0  1.560856e+09   60051.249669\n",
       "500363       11    22113  0.983868     0  1.560856e+09      55.047896\n",
       "588771       11    20317  0.983868     0  1.560856e+09     313.272574\n",
       "4188         11    64689  0.983868     1  1.560856e+09      70.060959\n",
       "515531       11    28210  0.983868     0  1.560856e+09      85.074022\n",
       "594815       11      823  0.983869     0  1.560856e+09      26.022642\n",
       "661645       11     8052  0.983869     0  1.560856e+09      31.026996\n",
       "666093       11    78804  0.983993     0  1.561053e+09  196711.155350\n",
       "504961       11    97305  0.983993     0  1.561053e+09     257.223807\n",
       "576799       11    64404  0.984034     0  1.561119e+09   65650.121160"
      ]
     },
     "execution_count": 33,
     "metadata": {},
     "output_type": "execute_result"
    }
   ],
   "source": [
    "data[data['user_id'] == 11]"
   ]
  },
  {
   "cell_type": "code",
   "execution_count": 34,
   "metadata": {},
   "outputs": [],
   "source": [
    "data['time_str'] = data['timestamp'].apply(lambda x: datetime.fromtimestamp(x).strftime('%Y-%m-%d %H:%M:%S'))"
   ]
  },
  {
   "cell_type": "code",
   "execution_count": 35,
   "metadata": {},
   "outputs": [],
   "source": [
    "data['pharse_id'] = data['user_id'] % 11"
   ]
  },
  {
   "cell_type": "code",
   "execution_count": 36,
   "metadata": {},
   "outputs": [],
   "source": [
    "cnt_df = data.groupby(['user_id'])['item_id'].count().reset_index()\n",
    "cnt_df.columns = ['user_id', 'item_count']"
   ]
  },
  {
   "cell_type": "code",
   "execution_count": 37,
   "metadata": {},
   "outputs": [
    {
     "data": {
      "text/plain": [
       "'\\nanswer_df = eval_data.drop_duplicates(subset=[\\'user_id\\'], keep=\\'last\\')\\nitem_df = pd.read_csv(opt.data.base_dir+\"item_count.csv\")\\ndf_merge = pd.merge(answer_df, item_df)\\ndf_merge[[\\'user_id\\', \\'item_id\\', \\'item_degree\\']].to_csv(opt.data.local_eval_file,index=False, header=None)\\nevaluate(sub_path, opt.data.local_eval_file, opt.phrase)\\n'"
      ]
     },
     "execution_count": 37,
     "metadata": {},
     "output_type": "execute_result"
    }
   ],
   "source": [
    "'''\n",
    "answer_df = eval_data.drop_duplicates(subset=['user_id'], keep='last')\n",
    "item_df = pd.read_csv(opt.data.base_dir+\"item_count.csv\")\n",
    "df_merge = pd.merge(answer_df, item_df)\n",
    "df_merge[['user_id', 'item_id', 'item_degree']].to_csv(opt.data.local_eval_file,index=False, header=None)\n",
    "evaluate(sub_path, opt.data.local_eval_file, opt.phrase)\n",
    "'''"
   ]
  },
  {
   "cell_type": "code",
   "execution_count": 38,
   "metadata": {},
   "outputs": [
    {
     "data": {
      "text/html": [
       "<div>\n",
       "<style scoped>\n",
       "    .dataframe tbody tr th:only-of-type {\n",
       "        vertical-align: middle;\n",
       "    }\n",
       "\n",
       "    .dataframe tbody tr th {\n",
       "        vertical-align: top;\n",
       "    }\n",
       "\n",
       "    .dataframe thead th {\n",
       "        text-align: right;\n",
       "    }\n",
       "</style>\n",
       "<table border=\"1\" class=\"dataframe\">\n",
       "  <thead>\n",
       "    <tr style=\"text-align: right;\">\n",
       "      <th></th>\n",
       "      <th>user_id</th>\n",
       "      <th>item_id</th>\n",
       "      <th>qtime</th>\n",
       "      <th>flag</th>\n",
       "      <th>timestamp</th>\n",
       "      <th>time_diff</th>\n",
       "      <th>time_str</th>\n",
       "      <th>pharse_id</th>\n",
       "    </tr>\n",
       "  </thead>\n",
       "  <tbody>\n",
       "    <tr>\n",
       "      <th>19829</th>\n",
       "      <td>1</td>\n",
       "      <td>78142</td>\n",
       "      <td>0.983742</td>\n",
       "      <td>0</td>\n",
       "      <td>1.560655e+09</td>\n",
       "      <td>-1.000000</td>\n",
       "      <td>2019-06-16 11:15:24</td>\n",
       "      <td>1</td>\n",
       "    </tr>\n",
       "    <tr>\n",
       "      <th>236132</th>\n",
       "      <td>1</td>\n",
       "      <td>26646</td>\n",
       "      <td>0.983757</td>\n",
       "      <td>0</td>\n",
       "      <td>1.560679e+09</td>\n",
       "      <td>23854.755656</td>\n",
       "      <td>2019-06-16 17:52:59</td>\n",
       "      <td>1</td>\n",
       "    </tr>\n",
       "    <tr>\n",
       "      <th>20480</th>\n",
       "      <td>1</td>\n",
       "      <td>89568</td>\n",
       "      <td>0.983763</td>\n",
       "      <td>0</td>\n",
       "      <td>1.560690e+09</td>\n",
       "      <td>10758.360684</td>\n",
       "      <td>2019-06-16 20:52:17</td>\n",
       "      <td>1</td>\n",
       "    </tr>\n",
       "    <tr>\n",
       "      <th>19709</th>\n",
       "      <td>1</td>\n",
       "      <td>76240</td>\n",
       "      <td>0.983770</td>\n",
       "      <td>0</td>\n",
       "      <td>1.560701e+09</td>\n",
       "      <td>11097.655900</td>\n",
       "      <td>2019-06-16 23:57:15</td>\n",
       "      <td>1</td>\n",
       "    </tr>\n",
       "    <tr>\n",
       "      <th>108033</th>\n",
       "      <td>1</td>\n",
       "      <td>87533</td>\n",
       "      <td>0.983790</td>\n",
       "      <td>0</td>\n",
       "      <td>1.560731e+09</td>\n",
       "      <td>30260.329047</td>\n",
       "      <td>2019-06-17 08:21:35</td>\n",
       "      <td>1</td>\n",
       "    </tr>\n",
       "  </tbody>\n",
       "</table>\n",
       "</div>"
      ],
      "text/plain": [
       "        user_id  item_id     qtime  flag     timestamp     time_diff  \\\n",
       "19829         1    78142  0.983742     0  1.560655e+09     -1.000000   \n",
       "236132        1    26646  0.983757     0  1.560679e+09  23854.755656   \n",
       "20480         1    89568  0.983763     0  1.560690e+09  10758.360684   \n",
       "19709         1    76240  0.983770     0  1.560701e+09  11097.655900   \n",
       "108033        1    87533  0.983790     0  1.560731e+09  30260.329047   \n",
       "\n",
       "                   time_str  pharse_id  \n",
       "19829   2019-06-16 11:15:24          1  \n",
       "236132  2019-06-16 17:52:59          1  \n",
       "20480   2019-06-16 20:52:17          1  \n",
       "19709   2019-06-16 23:57:15          1  \n",
       "108033  2019-06-17 08:21:35          1  "
      ]
     },
     "execution_count": 38,
     "metadata": {},
     "output_type": "execute_result"
    }
   ],
   "source": [
    "data.head()"
   ]
  },
  {
   "cell_type": "code",
   "execution_count": 43,
   "metadata": {},
   "outputs": [],
   "source": [
    "t = (2020, 4, 10, 0, 0, 0, 0, 0, 0)\n",
    "time_end = time.mktime(t)\n",
    "def time_info(time_delta):\n",
    "    timestamp = time_end * time_delta\n",
    "    struct_time = time.gmtime(timestamp)\n",
    "    return (struct_time.tm_wday, struct_time.tm_hour, struct_time.tm_min)"
   ]
  },
  {
   "cell_type": "code",
   "execution_count": 46,
   "metadata": {},
   "outputs": [],
   "source": [
    "data['day'],  data['hour'], data['minute'] = zip(*data['qtime'].apply(time_info))"
   ]
  },
  {
   "cell_type": "code",
   "execution_count": 51,
   "metadata": {},
   "outputs": [],
   "source": [
    "feature_cols = ['user_id', 'item_id', 'pharse_id', 'day', 'hour', 'minute']"
   ]
  },
  {
   "cell_type": "code",
   "execution_count": 95,
   "metadata": {},
   "outputs": [],
   "source": [
    "feature_map = data[feature_cols].max()+1\n",
    "feature_map = feature_map.to_dict()"
   ]
  },
  {
   "cell_type": "code",
   "execution_count": 97,
   "metadata": {},
   "outputs": [],
   "source": []
  },
  {
   "cell_type": "code",
   "execution_count": 8,
   "metadata": {},
   "outputs": [],
   "source": [
    "import os\n",
    "os.environ['CUDA_VISIBLE_DEVICES'] = '6'\n",
    "import tensorflow as tf\n",
    "from tensorflow.keras import backend as K\n",
    "from tensorflow.keras.layers import *"
   ]
  },
  {
   "cell_type": "code",
   "execution_count": 65,
   "metadata": {},
   "outputs": [],
   "source": [
    "from tensorflow.keras import Model\n"
   ]
  },
  {
   "cell_type": "code",
   "execution_count": 68,
   "metadata": {},
   "outputs": [],
   "source": [
    "from tensorflow.keras.optimizers import Adam"
   ]
  },
  {
   "cell_type": "code",
   "execution_count": 146,
   "metadata": {},
   "outputs": [],
   "source": [
    "class SampledSoftmaxLoss(object):\n",
    "  \"\"\" The loss function implements the Dense layer matmul and activation\n",
    "  when in training mode.\n",
    "  \"\"\"\n",
    "  def __init__(self, model, num_classes, num_sampled):\n",
    "    self.model = model\n",
    "    output_layer = model.layers[-1]\n",
    "    self.input = output_layer.input\n",
    "    self.weights = output_layer.weights\n",
    "    self.num_classes = num_classes\n",
    "    self.num_sampled = num_sampled\n",
    "\n",
    "  def loss(self, y_true, y_pred, **kwargs):\n",
    "    labels = tf.argmax(y_true, axis=1)\n",
    "    labels = tf.expand_dims(labels, -1)\n",
    "    loss = tf.nn.sampled_softmax_loss(\n",
    "        weights=self.weights[0],\n",
    "        biases=self.weights[1],\n",
    "        labels=labels,\n",
    "        inputs=self.input,\n",
    "        num_sampled = self.num_sampled,\n",
    "        num_classes = self.num_classes,\n",
    "        #partition_strategy = \"div\",\n",
    "    )\n",
    "    return loss"
   ]
  },
  {
   "cell_type": "code",
   "execution_count": 159,
   "metadata": {},
   "outputs": [],
   "source": [
    "k_latent = 8\n",
    "embedding_reg = 0.0002\n",
    "kernel_reg = 0.1\n",
    "\n",
    "class SampledSoftmaxLoss(object):\n",
    "  \"\"\" The loss function implements the Dense layer matmul and activation\n",
    "  when in training mode.\n",
    "  \"\"\"\n",
    "  def __init__(self, model, num_classes, num_sampled):\n",
    "    self.model = model\n",
    "    output_layer = model.layers[-1]\n",
    "    self.input = output_layer.input\n",
    "    self.weights = output_layer.weights\n",
    "    self.num_classes = num_classes\n",
    "    self.num_sampled = num_sampled\n",
    "\n",
    "  def loss(self, y_true, y_pred, **kwargs):\n",
    "    labels = tf.argmax(y_true, axis=1)\n",
    "    labels = tf.expand_dims(labels, -1)\n",
    "    loss = tf.nn.sampled_softmax_loss(\n",
    "        weights=self.weights[0],\n",
    "        biases=self.weights[1],\n",
    "        labels=labels,\n",
    "        inputs=self.input,\n",
    "        num_sampled = self.num_sampled,\n",
    "        num_classes = self.num_classes,\n",
    "        #partition_strategy = \"div\",\n",
    "    )\n",
    "    return loss\n",
    "\n",
    "def get_embed(x_input, x_size, k_latent):\n",
    "    if x_size > 0: #category\n",
    "        embed = Embedding(x_size, k_latent, input_length=1, \n",
    "                          embeddings_regularizer=l2(embedding_reg))(x_input)\n",
    "        embed = Flatten()(embed)\n",
    "    else:\n",
    "        embed = Dense(k_latent, kernel_regularizer=l2(embedding_reg))(x_input)\n",
    "    return embed\n",
    "\n",
    "def build_model(X, feature_map, nums_neg=5):\n",
    "    \n",
    "    f_size = [dim for name, dim in feature_map.items()]\n",
    "    dim_input, dim_output = len(f_size), (nums_neg+1) * 2\n",
    "    \n",
    "    input_x = [Input(shape=(1,)) for i in range(dim_input)]     \n",
    "    biases = [get_embed(x, size, 1) for (x, size) in zip(input_x, f_size)]\n",
    "    factors = [get_embed(x, size, k_latent) for (x, size) in zip(input_x, f_size)]\n",
    "    s = Add()(factors)\n",
    "    diffs = [Subtract()([s, x]) for x in factors]\n",
    "    dots = [Dot(axes=1)([d, x]) for d,x in zip(diffs, factors)]\n",
    "    x = Concatenate()(biases + dots)\n",
    "    #x = BatchNormalization()(x)\n",
    "    output = Dense(dim_output, activation='relu', kernel_regularizer=l2(kernel_reg))(x)\n",
    "    model = Model(inputs=input_x, outputs=[output])\n",
    "    \n",
    "    loss_calculator = SampledSoftmaxLoss(model, feature_map['item_id'], nums_neg)\n",
    "    opt = Adam(clipnorm=0.5)\n",
    "    model.compile(optimizer=opt, loss=loss_calculator.loss)\n",
    "    output_f = factors + biases\n",
    "    model_features = Model(inputs=input_x, outputs=output_f)\n",
    "    return model, model_features"
   ]
  },
  {
   "cell_type": "code",
   "execution_count": 160,
   "metadata": {},
   "outputs": [],
   "source": [
    "model, model_features = build_model(data, feature_map, nums_neg=5)"
   ]
  },
  {
   "cell_type": "code",
   "execution_count": 131,
   "metadata": {},
   "outputs": [],
   "source": [
    "import numpy as np\n",
    "nb_classes = feature_map['item_id']\n",
    "targets = data['item_id'].values.reshape(-1)\n",
    "one_hot_targets = np.eye(nb_classes, dtype=np.int8)[targets]\n",
    "r = [data[col] for col, dim in feature_map.items()]"
   ]
  },
  {
   "cell_type": "code",
   "execution_count": null,
   "metadata": {},
   "outputs": [],
   "source": [
    "model.fit(x=r, y=y)"
   ]
  },
  {
   "cell_type": "code",
   "execution_count": null,
   "metadata": {},
   "outputs": [],
   "source": []
  }
 ],
 "metadata": {
  "kernelspec": {
   "display_name": "Python 3",
   "language": "python",
   "name": "python3"
  },
  "language_info": {
   "codemirror_mode": {
    "name": "ipython",
    "version": 3
   },
   "file_extension": ".py",
   "mimetype": "text/x-python",
   "name": "python",
   "nbconvert_exporter": "python",
   "pygments_lexer": "ipython3",
   "version": "3.6.9"
  }
 },
 "nbformat": 4,
 "nbformat_minor": 4
}
